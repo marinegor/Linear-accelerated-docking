{
 "cells": [
  {
   "cell_type": "code",
   "execution_count": 1,
   "id": "1f0149d9",
   "metadata": {},
   "outputs": [],
   "source": [
    "import numpy as np\n",
    "import pandas as pd\n",
    "import dask.dataframe as dd\n",
    "\n",
    "import matplotlib.pyplot as plt\n",
    "import seaborn as sns"
   ]
  },
  {
   "cell_type": "code",
   "execution_count": 32,
   "id": "6ce33aa6",
   "metadata": {},
   "outputs": [],
   "source": [
    "rm -f ../data/AmpC_screen_table__withscores.csv"
   ]
  },
  {
   "cell_type": "code",
   "execution_count": 49,
   "id": "806203fa",
   "metadata": {},
   "outputs": [],
   "source": [
    "%%bash\n",
    "\n",
    "if ! [[ -f ../data/AmpC_screen_table__withscores.csv ]]; then\n",
    "    sed -e '/no_score/d' ../data/AmpC_screen_table.csv > ../data/AmpC_screen_table__withscores.csv\n",
    "fi\n",
    "\n",
    "if ! [[ -f ../data/D4_screen_table__withscores.csv ]]; then\n",
    "    sed -e '/no_score/d' ../data/D4_screen_table.csv > ../data/D4_screen_table__withscores.csv\n",
    "fi"
   ]
  },
  {
   "cell_type": "code",
   "execution_count": 50,
   "id": "94d2bc74",
   "metadata": {},
   "outputs": [
    {
     "name": "stdout",
     "output_type": "stream",
     "text": [
      "CPU times: user 5min 15s, sys: 44.8 s, total: 6min\n",
      "Wall time: 4min 27s\n"
     ]
    }
   ],
   "source": [
    "%%time\n",
    "\n",
    "datasets = {'AmpC':'../data/AmpC_screen_table__withscores.csv',\n",
    "            'D4':'../data/D4_screen_table__withscores.csv'\n",
    "           }\n",
    "\n",
    "dfs = []\n",
    "for name, path in datasets.items():\n",
    "    df = dd.read_csv(path)\n",
    "    df['proj'] = name\n",
    "    dfs.append(df)\n",
    "\n",
    "df = dd.concat(dfs).compute(num_workers = 16)"
   ]
  },
  {
   "cell_type": "code",
   "execution_count": 55,
   "id": "ec14e613",
   "metadata": {},
   "outputs": [
    {
     "name": "stderr",
     "output_type": "stream",
     "text": [
      "/tmp/ipykernel_129227/3618675794.py:3: UserWarning: To output multiple subplots, the figure containing the passed axes is being cleared.\n",
      "  df.query('dockscore < 0').hist('dockscore', bins=100, by='proj', ax=ax)\n"
     ]
    },
    {
     "data": {
      "image/png": "[encoded data removed]",
      "text/plain": [
       "<Figure size 864x432 with 2 Axes>"
      ]
     },
     "metadata": {
      "needs_background": "light"
     },
     "output_type": "display_data"
    }
   ],
   "source": [
    "fig = plt.figure(figsize = (12,6))\n",
    "ax = fig.gca()\n",
    "df.query('dockscore < 0').hist('dockscore', bins=100, by='proj', ax=ax)\n",
    "plt.savefig('../figures/Figure_1.png')"
   ]
  },
  {
   "cell_type": "code",
   "execution_count": 67,
   "id": "5e5fe844",
   "metadata": {},
   "outputs": [
    {
     "data": {
      "text/plain": [
       "proj\n",
       "D4      138312677\n",
       "AmpC     96214206\n",
       "dtype: int64"
      ]
     },
     "execution_count": 67,
     "metadata": {},
     "output_type": "execute_result"
    }
   ],
   "source": [
    "df.value_counts('proj')"
   ]
  }
 ],
 "metadata": {
  "kernelspec": {
   "display_name": "wiselydock-manuscript",
   "language": "python",
   "name": "wiselydock-manuscript"
  },
  "language_info": {
   "codemirror_mode": {
    "name": "ipython",
    "version": 3
   },
   "file_extension": ".py",
   "mimetype": "text/x-python",
   "name": "python",
   "nbconvert_exporter": "python",
   "pygments_lexer": "ipython3",
   "version": "3.8.5"
  }
 },
 "nbformat": 4,
 "nbformat_minor": 5
}
