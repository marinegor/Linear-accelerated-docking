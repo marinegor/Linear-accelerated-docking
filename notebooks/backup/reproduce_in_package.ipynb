{
 "cells": [
  {
   "cell_type": "code",
   "execution_count": 1,
   "id": "9af343c5",
   "metadata": {},
   "outputs": [],
   "source": [
    "from wiselydock.database import Master\n",
    "from wiselydock.learning import ActiveLearningInstance, Batch, Iterations, ActiveLearningModel\n",
    "\n",
    "from functools import wraps\n",
    "from time import time\n",
    "from tqdm import tqdm\n",
    "\n",
    "import pandas as pd\n",
    "import numpy as np"
   ]
  },
  {
   "cell_type": "code",
   "execution_count": 2,
   "id": "92ebd459",
   "metadata": {},
   "outputs": [],
   "source": [
    "m = Master.from_json('/storage/marinegor/github/wiselydock-server/data/D4_1M/master.json')\n",
    "instance = ActiveLearningInstance(m)"
   ]
  },
  {
   "cell_type": "code",
   "execution_count": 4,
   "id": "79e15372",
   "metadata": {},
   "outputs": [
    {
     "data": {
      "text/plain": [
       "ActiveLearningInstance(database=Master(extensions=[<Extension.npy: 'npy'>, <Extension.csv: 'csv'>], folder=PosixPath('/storage/marinegor/github/wiselydock-server/data/D4_1M')), add_to_train=False, regime=<Iterations.LastModel: '3'>, n_splits=5, chunksize=10000, model=ActiveLearningModel(regime=<Iterations.LastModel: '3'>, n_splits=5, _regressor_factory=<class 'sklearn.linear_model._base.LinearRegression'>), base_regressor=<class 'sklearn.linear_model._base.LinearRegression'>, history=[])"
      ]
     },
     "execution_count": 4,
     "metadata": {},
     "output_type": "execute_result"
    }
   ],
   "source": [
    "instance"
   ]
  },
  {
   "cell_type": "code",
   "execution_count": 3,
   "id": "9e0c6d90",
   "metadata": {},
   "outputs": [],
   "source": [
    "datasets = {\n",
    "    'AmpC':'../data/AmpC_screen_table__withscores.csv',\n",
    "    'D4':'../data/D4_screen_table__withscores.csv',\n",
    "    '4eiy_1':'../data/4eiy_screen_table__withscores.csv',\n",
    "    '4eiy_2':'../data/4eiy_screen_table__withscores_2.csv',\n",
    "    '5zty':'../data/5zty_screen_table__withscores.csv',\n",
    "    'D4_1M':'/storage/marinegor/github/wiselydock-server/data/D4_1M/D4_screen_table__unique_dropna_213_nonempty_filtered_1M.csv.source'\n",
    "           }\n",
    "\n",
    "# dfs = []\n",
    "# for name, path in datasets.items():\n",
    "#     df = dd.read_csv(path)\n",
    "#     df['proj'] = name\n",
    "#     dfs.append(df)\n",
    "\n",
    "# raw_data = dd.concat(dfs).compute(num_workers = 4)"
   ]
  },
  {
   "cell_type": "code",
   "execution_count": 4,
   "id": "e77a6340",
   "metadata": {},
   "outputs": [],
   "source": [
    "def get_scores(name: str, nrows: int = int(1e6)) -> Batch:\n",
    "    path = datasets.get(name)\n",
    "    if not path:\n",
    "        raise ValueError(f'Dataset should be from {list(datasets.keys())}')\n",
    "    \n",
    "    df = pd.read_csv(path, nrows=nrows*1.1,).dropna(axis=0).head(nrows)\n",
    "    df.columns = ['smiles','zincid','dockscore']\n",
    "    return df"
   ]
  },
  {
   "cell_type": "code",
   "execution_count": 5,
   "id": "cfea599c",
   "metadata": {},
   "outputs": [],
   "source": [
    "df = get_scores('D4_1M')"
   ]
  },
  {
   "cell_type": "code",
   "execution_count": 6,
   "id": "61a21983",
   "metadata": {},
   "outputs": [
    {
     "data": {
      "text/html": [
       "<div>\n",
       "<style scoped>\n",
       "    .dataframe tbody tr th:only-of-type {\n",
       "        vertical-align: middle;\n",
       "    }\n",
       "\n",
       "    .dataframe tbody tr th {\n",
       "        vertical-align: top;\n",
       "    }\n",
       "\n",
       "    .dataframe thead th {\n",
       "        text-align: right;\n",
       "    }\n",
       "</style>\n",
       "<table border=\"1\" class=\"dataframe\">\n",
       "  <thead>\n",
       "    <tr style=\"text-align: right;\">\n",
       "      <th></th>\n",
       "      <th>smiles</th>\n",
       "      <th>zincid</th>\n",
       "      <th>dockscore</th>\n",
       "    </tr>\n",
       "  </thead>\n",
       "  <tbody>\n",
       "    <tr>\n",
       "      <th>0</th>\n",
       "      <td>C=CCc1ccc(OCC(=O)N(CC)CC)c(OC)c1</td>\n",
       "      <td>ZINC000000000007</td>\n",
       "      <td>-24.85</td>\n",
       "    </tr>\n",
       "    <tr>\n",
       "      <th>1</th>\n",
       "      <td>O=C(C[S@@](=O)C(c1ccccc1)c1ccccc1)NO</td>\n",
       "      <td>ZINC000000000012</td>\n",
       "      <td>-26.71</td>\n",
       "    </tr>\n",
       "    <tr>\n",
       "      <th>2</th>\n",
       "      <td>O[C@@H]1C=C2CCN3Cc4cc5c(cc4[C@@H]([C@H]23)[C@H...</td>\n",
       "      <td>ZINC000000000024</td>\n",
       "      <td>-32.09</td>\n",
       "    </tr>\n",
       "    <tr>\n",
       "      <th>3</th>\n",
       "      <td>CC(C)(C)NC[C@@H](O)COc1ccccc1NC(=O)c1ccco1</td>\n",
       "      <td>ZINC000000000039</td>\n",
       "      <td>-54.00</td>\n",
       "    </tr>\n",
       "    <tr>\n",
       "      <th>4</th>\n",
       "      <td>CC(=O)c1cc2cccc(OC[C@H](O)CNC(C)C)c2o1</td>\n",
       "      <td>ZINC000000000063</td>\n",
       "      <td>-39.95</td>\n",
       "    </tr>\n",
       "  </tbody>\n",
       "</table>\n",
       "</div>"
      ],
      "text/plain": [
       "                                              smiles            zincid  \\\n",
       "0                   C=CCc1ccc(OCC(=O)N(CC)CC)c(OC)c1  ZINC000000000007   \n",
       "1               O=C(C[S@@](=O)C(c1ccccc1)c1ccccc1)NO  ZINC000000000012   \n",
       "2  O[C@@H]1C=C2CCN3Cc4cc5c(cc4[C@@H]([C@H]23)[C@H...  ZINC000000000024   \n",
       "3         CC(C)(C)NC[C@@H](O)COc1ccccc1NC(=O)c1ccco1  ZINC000000000039   \n",
       "4             CC(=O)c1cc2cccc(OC[C@H](O)CNC(C)C)c2o1  ZINC000000000063   \n",
       "\n",
       "   dockscore  \n",
       "0     -24.85  \n",
       "1     -26.71  \n",
       "2     -32.09  \n",
       "3     -54.00  \n",
       "4     -39.95  "
      ]
     },
     "execution_count": 6,
     "metadata": {},
     "output_type": "execute_result"
    }
   ],
   "source": [
    "df.head()"
   ]
  },
  {
   "cell_type": "code",
   "execution_count": 7,
   "id": "0102703c",
   "metadata": {},
   "outputs": [],
   "source": [
    "def get_scores_for_ids(data: pd.DataFrame, ids: list[str]) -> list[float]:\n",
    "    ids = ids\n",
    "    scores = data[data.zincid.isin(ids)].dockscore.values\n",
    "    return scores\n",
    "\n",
    "def get_random_scores(data: pd.DataFrame, size: int = 10_000) -> Batch:\n",
    "    tmp = data.sample(n=size)\n",
    "    ids, scores = tmp.zincid.values, tmp.dockscore.values\n",
    "    data = list(zip(ids, scores))\n",
    "    return data"
   ]
  },
  {
   "cell_type": "code",
   "execution_count": 8,
   "id": "d80e1a72",
   "metadata": {},
   "outputs": [],
   "source": [
    "def timing(f):\n",
    "    @wraps(f)\n",
    "    def wrap(*args, **kw):\n",
    "        ts = time()\n",
    "        result = f(*args, **kw)\n",
    "        te = time()\n",
    "        print ('func:%r took: %2.4f sec' % \\\n",
    "          (f.__name__, te-ts))\n",
    "        return result\n",
    "    return wrap\n",
    "\n",
    "@timing\n",
    "def init_model(att: bool, r: Iterations) -> ActiveLearningInstance:\n",
    "    instance_init = ActiveLearningInstance(m, regime=r, add_to_train=att)\n",
    "    instance_init.dump(\"instance.json\")\n",
    "    instance = ActiveLearningInstance.from_json(\"instance.json\")\n",
    "    return instance\n",
    "\n",
    "@timing\n",
    "def initialization(instance: ActiveLearningInstance, data: pd.DataFrame):\n",
    "    ids, scores = zip(*get_random_scores(data))\n",
    "    data = zip(ids, scores)\n",
    "    instance.add_data(data)\n",
    "\n",
    "@timing\n",
    "def do_cycle(instance: ActiveLearningInstance, i: int, data: pd.DataFrame):\n",
    "    batch = instance.get_next_batch()\n",
    "    batch_scores = get_scores_for_ids(data=data, ids=batch)\n",
    "    data = zip(batch, batch_scores)\n",
    "    instance.add_data(data)\n",
    "    instance.dump(f'instance_{i}.json')\n",
    "\n",
    "# for att in (True, False):\n",
    "#     for r in Iterations:\n",
    "#         instance = init_model(att, r)\n",
    "#         initialization(instance)\n",
    "#         for i in range(5):\n",
    "#             do_cycle(instance, i)\n",
    "#         print('-'*80)"
   ]
  },
  {
   "cell_type": "code",
   "execution_count": 39,
   "id": "7367212c",
   "metadata": {},
   "outputs": [
    {
     "name": "stdout",
     "output_type": "stream",
     "text": [
      "rm: cannot remove '*.pkl': No such file or directory\r\n"
     ]
    }
   ],
   "source": [
    "rm *.{json,pkl}"
   ]
  },
  {
   "cell_type": "code",
   "execution_count": 40,
   "id": "56320acb",
   "metadata": {},
   "outputs": [
    {
     "name": "stdout",
     "output_type": "stream",
     "text": [
      "func:'init_model' took: 0.0056 sec\n",
      "func:'initialization' took: 18.9163 sec\n"
     ]
    },
    {
     "name": "stderr",
     "output_type": "stream",
     "text": [
      "\r",
      "  0%|          | 0/25 [00:00<?, ?it/s]"
     ]
    },
    {
     "name": "stdout",
     "output_type": "stream",
     "text": [
      "func:'do_cycle' took: 87.9371 sec\n"
     ]
    },
    {
     "name": "stderr",
     "output_type": "stream",
     "text": [
      "\r",
      "  4%|▍         | 1/25 [01:27<35:10, 87.94s/it]"
     ]
    },
    {
     "name": "stdout",
     "output_type": "stream",
     "text": [
      "func:'do_cycle' took: 120.3059 sec\n"
     ]
    },
    {
     "name": "stderr",
     "output_type": "stream",
     "text": [
      "\r",
      "  8%|▊         | 2/25 [03:28<41:00, 106.98s/it]"
     ]
    },
    {
     "name": "stdout",
     "output_type": "stream",
     "text": [
      "func:'do_cycle' took: 145.4856 sec\n"
     ]
    },
    {
     "name": "stderr",
     "output_type": "stream",
     "text": [
      "\r",
      " 12%|█▏        | 3/25 [05:53<45:40, 124.57s/it]"
     ]
    },
    {
     "name": "stdout",
     "output_type": "stream",
     "text": [
      "func:'do_cycle' took: 174.6539 sec\n"
     ]
    },
    {
     "name": "stderr",
     "output_type": "stream",
     "text": [
      "\r",
      " 16%|█▌        | 4/25 [08:48<50:31, 144.34s/it]"
     ]
    },
    {
     "name": "stdout",
     "output_type": "stream",
     "text": [
      "func:'do_cycle' took: 207.8620 sec\n"
     ]
    },
    {
     "name": "stderr",
     "output_type": "stream",
     "text": [
      "\r",
      " 20%|██        | 5/25 [12:16<55:44, 167.25s/it]"
     ]
    },
    {
     "name": "stdout",
     "output_type": "stream",
     "text": [
      "func:'do_cycle' took: 237.5954 sec\n"
     ]
    },
    {
     "name": "stderr",
     "output_type": "stream",
     "text": [
      "\r",
      " 24%|██▍       | 6/25 [16:13<1:00:32, 191.17s/it]"
     ]
    },
    {
     "name": "stdout",
     "output_type": "stream",
     "text": [
      "func:'do_cycle' took: 342.2523 sec\n"
     ]
    },
    {
     "name": "stderr",
     "output_type": "stream",
     "text": [
      "\r",
      " 28%|██▊       | 7/25 [21:56<1:12:10, 240.56s/it]"
     ]
    },
    {
     "name": "stdout",
     "output_type": "stream",
     "text": [
      "func:'do_cycle' took: 815.5366 sec\n"
     ]
    },
    {
     "name": "stderr",
     "output_type": "stream",
     "text": [
      "\r",
      " 32%|███▏      | 8/25 [35:31<2:00:01, 423.61s/it]"
     ]
    },
    {
     "name": "stdout",
     "output_type": "stream",
     "text": [
      "func:'do_cycle' took: 630.1547 sec\n"
     ]
    },
    {
     "name": "stderr",
     "output_type": "stream",
     "text": [
      "\r",
      " 36%|███▌      | 9/25 [46:01<2:10:10, 488.18s/it]"
     ]
    },
    {
     "name": "stdout",
     "output_type": "stream",
     "text": [
      "func:'do_cycle' took: 550.2984 sec\n"
     ]
    },
    {
     "name": "stderr",
     "output_type": "stream",
     "text": [
      "\r",
      " 40%|████      | 10/25 [55:12<2:06:50, 507.36s/it]"
     ]
    },
    {
     "name": "stdout",
     "output_type": "stream",
     "text": [
      "func:'do_cycle' took: 619.6919 sec\n"
     ]
    },
    {
     "name": "stderr",
     "output_type": "stream",
     "text": [
      "\r",
      " 44%|████▍     | 11/25 [1:05:31<2:06:24, 541.74s/it]"
     ]
    },
    {
     "name": "stdout",
     "output_type": "stream",
     "text": [
      "func:'do_cycle' took: 776.7063 sec\n"
     ]
    },
    {
     "name": "stderr",
     "output_type": "stream",
     "text": [
      "\r",
      " 48%|████▊     | 12/25 [1:18:28<2:12:51, 613.22s/it]"
     ]
    },
    {
     "name": "stdout",
     "output_type": "stream",
     "text": [
      "func:'do_cycle' took: 716.0547 sec\n"
     ]
    },
    {
     "name": "stderr",
     "output_type": "stream",
     "text": [
      "\r",
      " 52%|█████▏    | 13/25 [1:30:24<2:08:52, 644.38s/it]"
     ]
    },
    {
     "name": "stdout",
     "output_type": "stream",
     "text": [
      "func:'do_cycle' took: 784.1215 sec\n"
     ]
    },
    {
     "name": "stderr",
     "output_type": "stream",
     "text": [
      "\r",
      " 56%|█████▌    | 14/25 [1:43:28<2:05:52, 686.59s/it]"
     ]
    },
    {
     "name": "stdout",
     "output_type": "stream",
     "text": [
      "func:'do_cycle' took: 900.8236 sec\n"
     ]
    },
    {
     "name": "stderr",
     "output_type": "stream",
     "text": [
      "\r",
      " 60%|██████    | 15/25 [1:58:29<2:05:11, 751.17s/it]"
     ]
    },
    {
     "name": "stdout",
     "output_type": "stream",
     "text": [
      "func:'do_cycle' took: 1561.1122 sec\n"
     ]
    },
    {
     "name": "stderr",
     "output_type": "stream",
     "text": [
      "\r",
      " 64%|██████▍   | 16/25 [2:24:30<2:29:14, 994.96s/it]"
     ]
    },
    {
     "name": "stdout",
     "output_type": "stream",
     "text": [
      "func:'do_cycle' took: 1269.0342 sec\n"
     ]
    },
    {
     "name": "stderr",
     "output_type": "stream",
     "text": [
      "\r",
      " 68%|██████▊   | 17/25 [2:45:39<2:23:39, 1077.38s/it]"
     ]
    },
    {
     "name": "stdout",
     "output_type": "stream",
     "text": [
      "func:'do_cycle' took: 1363.4846 sec\n"
     ]
    },
    {
     "name": "stderr",
     "output_type": "stream",
     "text": [
      "\r",
      " 72%|███████▏  | 18/25 [3:08:23<2:15:43, 1163.35s/it]"
     ]
    },
    {
     "name": "stdout",
     "output_type": "stream",
     "text": [
      "func:'do_cycle' took: 1236.9527 sec\n"
     ]
    },
    {
     "name": "stderr",
     "output_type": "stream",
     "text": [
      "\r",
      " 76%|███████▌  | 19/25 [3:29:00<1:58:32, 1185.46s/it]"
     ]
    },
    {
     "name": "stdout",
     "output_type": "stream",
     "text": [
      "func:'do_cycle' took: 1506.3500 sec\n"
     ]
    },
    {
     "name": "stderr",
     "output_type": "stream",
     "text": [
      "\r",
      " 80%|████████  | 20/25 [3:54:06<1:46:49, 1281.80s/it]"
     ]
    },
    {
     "name": "stdout",
     "output_type": "stream",
     "text": [
      "func:'do_cycle' took: 1616.9362 sec\n"
     ]
    },
    {
     "name": "stderr",
     "output_type": "stream",
     "text": [
      "\r",
      " 84%|████████▍ | 21/25 [4:21:03<1:32:09, 1382.40s/it]"
     ]
    },
    {
     "name": "stdout",
     "output_type": "stream",
     "text": [
      "func:'do_cycle' took: 1864.2506 sec\n"
     ]
    },
    {
     "name": "stderr",
     "output_type": "stream",
     "text": [
      "\r",
      " 88%|████████▊ | 22/25 [4:52:07<1:16:21, 1527.02s/it]"
     ]
    }
   ],
   "source": [
    "# Long running cell\n",
    "import multiprocessing\n",
    "\n",
    "def learning_call():\n",
    "    n = 25\n",
    "    df = get_scores('D4_1M')\n",
    "    instance = init_model(att=False, r=Iterations.LastModel)\n",
    "    initialization(instance, data=df)\n",
    "    for i in tqdm(range(n)):\n",
    "        do_cycle(instance, i, data=df)\n",
    "    \n",
    "multiprocessing.Process(target=learning_call).start()"
   ]
  },
  {
   "cell_type": "code",
   "execution_count": 9,
   "id": "97fba647",
   "metadata": {},
   "outputs": [],
   "source": [
    "def retrieve_top(name: str, share: float = 1e-2) -> list[str]:\n",
    "    assert 0 < share < 1, share\n",
    "    scores = get_scores(name)\n",
    "    size = scores.shape[0]\n",
    "    top_size = int(size*share)\n",
    "    rv = scores.sort_values('zincid')[:top_size].zincid.values\n",
    "    return rv\n",
    "\n",
    "from more_itertools import flatten\n",
    "\n",
    "def recall_score_for_instance(inst: instance, top: list[str]) -> float:\n",
    "    seen = set([pair[0] for pair in flatten(inst.history)])\n",
    "    known = set(top)\n",
    "    return len(known & seen) / len(known)\n",
    "\n",
    "def recall_score_for_many_instances(instances: list[ActiveLearningInstance], top: list[str]) -> float:\n",
    "    histories = [i.history for i in instances]\n",
    "    histories = list(flatten(histories))\n",
    "    seen = set([pair[0] for pair in flatten(histories)])\n",
    "    known = set(top)\n",
    "    return len(known & seen) / len(known)\n",
    "\n",
    "def mean_score_for_instance(inst: instance) -> float:\n",
    "    scores = set([tuple(pair) for pair in flatten(inst.history)])\n",
    "    scores = [elem[1] for elem in scores]\n",
    "    return sum(scores) / len(scores)\n",
    "\n",
    "def mean_score_for_many_instances(instances: list[ActiveLearningInstance]) -> float:\n",
    "    histories = [i.history for i in instances]\n",
    "    histories = list(flatten(histories))\n",
    "    scores = set([tuple(pair) for pair in flatten(histories)])\n",
    "    scores = [elem[1] for elem in scores]\n",
    "    return sum(scores) / len(scores)\n",
    "\n",
    "top = retrieve_top('D4_1M')"
   ]
  },
  {
   "cell_type": "code",
   "execution_count": 10,
   "id": "eaa81663",
   "metadata": {},
   "outputs": [
    {
     "name": "stdout",
     "output_type": "stream",
     "text": [
      "len(instances)=25\n"
     ]
    },
    {
     "data": {
      "text/plain": [
       "0.2475"
      ]
     },
     "execution_count": 10,
     "metadata": {},
     "output_type": "execute_result"
    }
   ],
   "source": [
    "import glob\n",
    "\n",
    "instances = [ActiveLearningInstance.from_json(path) for path in glob.glob('instance_*.json')]\n",
    "print(f'{len(instances)=}')\n",
    "recall_score_for_many_instances(instances, top)"
   ]
  },
  {
   "cell_type": "code",
   "execution_count": 11,
   "id": "9fc404ab",
   "metadata": {},
   "outputs": [
    {
     "data": {
      "text/plain": [
       "-27.987484384614678"
      ]
     },
     "execution_count": 11,
     "metadata": {},
     "output_type": "execute_result"
    }
   ],
   "source": [
    "mean_score_for_many_instances(instances)"
   ]
  },
  {
   "cell_type": "code",
   "execution_count": 12,
   "id": "d6dcc429",
   "metadata": {},
   "outputs": [
    {
     "name": "stdout",
     "output_type": "stream",
     "text": [
      "Figure_1_dataset_description.ipynb  instance_21.json\r\n",
      "Figure_2_performance.ipynb          instance_22.json\r\n",
      "Figure_3_iterations.ipynb           instance_23.json\r\n",
      "Figure_5_normalization.ipynb        instance_24.json\r\n",
      "instance_0.json                     instance_2.json\r\n",
      "instance_10.json                    instance_3.json\r\n",
      "instance_11.json                    instance_4.json\r\n",
      "instance_12.json                    instance_5.json\r\n",
      "instance_13.json                    instance_6.json\r\n",
      "instance_14.json                    instance_7.json\r\n",
      "instance_15.json                    instance_8.json\r\n",
      "instance_16.json                    instance_9.json\r\n",
      "instance_17.json                    instance.json\r\n",
      "instance_18.json                    large_screening_EM.ipynb\r\n",
      "instance_19.json                    \u001b[0m\u001b[01;36mmargarita_notebooks\u001b[0m@\r\n",
      "instance_1.json                     reproduce_in_package.ipynb\r\n",
      "instance_20.json                    Tables_visualisation.ipynb\r\n"
     ]
    }
   ],
   "source": [
    "ls"
   ]
  }
 ],
 "metadata": {
  "kernelspec": {
   "display_name": "wiselydock-server",
   "language": "python",
   "name": "wiselydock-server"
  },
  "language_info": {
   "codemirror_mode": {
    "name": "ipython",
    "version": 3
   },
   "file_extension": ".py",
   "mimetype": "text/x-python",
   "name": "python",
   "nbconvert_exporter": "python",
   "pygments_lexer": "ipython3",
   "version": "3.9.6"
  }
 },
 "nbformat": 4,
 "nbformat_minor": 5
}
